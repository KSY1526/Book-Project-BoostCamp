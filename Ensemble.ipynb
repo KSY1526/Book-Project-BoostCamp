{
 "cells": [
  {
   "cell_type": "code",
   "execution_count": null,
   "metadata": {},
   "outputs": [],
   "source": [
    "import pandas as pd\n",
    "\n",
    "cat = pd.read_csv('submit/FFDCN.csv')\n",
    "fmd = pd.read_csv('submit/CatBoost.csv')\n",
    "\n",
    "cat['rating'] = cat['rating'] * 0.55 + fmd['rating'] * 0.45 # 비율은 변경할수도.\n",
    "cat.to_csv('submit/Ensemble.csv', index = False)"
   ]
  }
 ],
 "metadata": {
  "kernelspec": {
   "display_name": "Python 3.6.9 64-bit",
   "language": "python",
   "name": "python3"
  },
  "language_info": {
   "name": "python",
   "version": "3.6.9"
  },
  "orig_nbformat": 4,
  "vscode": {
   "interpreter": {
    "hash": "31f2aee4e71d21fbe5cf8b01ff0e069b9275f58929596ceb00d14d90e3e16cd6"
   }
  }
 },
 "nbformat": 4,
 "nbformat_minor": 2
}
